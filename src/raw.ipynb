{
 "cells": [
  {
   "attachments": {},
   "cell_type": "markdown",
   "metadata": {},
   "source": [
    "# Imports"
   ]
  },
  {
   "cell_type": "code",
   "execution_count": 1,
   "metadata": {},
   "outputs": [],
   "source": [
    "# imports\n",
    "import pandas\n",
    "import numpy as np\n",
    "import matplotlib.pyplot as plt\n",
    "import plotly.express as px"
   ]
  },
  {
   "attachments": {},
   "cell_type": "markdown",
   "metadata": {},
   "source": [
    "# Raw data visualization"
   ]
  },
  {
   "cell_type": "code",
   "execution_count": 7,
   "metadata": {},
   "outputs": [],
   "source": [
    "# give each phase its name\n",
    "phase_names = ['start', 'standup', 'walkingToStore', 'inEntrance', 'walkingToCorrectSection',\n",
    "                'pickUpItem', 'walkingToCheckout', 'inTheCheckout', 'inItsTurn', 'goToTheExit',\n",
    "                'inTheExit', 'comingBack', 'inTheStartPoint', 'end']"
   ]
  },
  {
   "cell_type": "code",
   "execution_count": 8,
   "metadata": {},
   "outputs": [],
   "source": [
    "patient_id = \"CM3\"\n",
    "file = \"es.ugr.frailty.heartrate.csv\"\n",
    "filepath = f\"../../FrailtyStudy_Datasets/Cuestionarios y Wearables/Wearable Data/raw_data/{patient_id}/{file}\"\n",
    "columns = ['timestamp', 'day_month_year', 'hour_min_sec_ms', 'hr', 'phase']\n",
    "hr = pandas.read_csv(filepath, names = columns)"
   ]
  },
  {
   "cell_type": "code",
   "execution_count": 5,
   "metadata": {},
   "outputs": [],
   "source": [
    "# Define graph parameters\n",
    "# Should change sampling method to use more mean values\n",
    "sample_size = 25\n",
    "n_samples = hr[::sample_size].shape[0]"
   ]
  },
  {
   "cell_type": "code",
   "execution_count": 10,
   "metadata": {},
   "outputs": [
    {
     "ename": "AttributeError",
     "evalue": "'Figure' object has no attribute 'update_xlabel'",
     "output_type": "error",
     "traceback": [
      "\u001b[1;31m---------------------------------------------------------------------------\u001b[0m",
      "\u001b[1;31mAttributeError\u001b[0m                            Traceback (most recent call last)",
      "\u001b[1;32m<ipython-input-10-38494150487e>\u001b[0m in \u001b[0;36m<module>\u001b[1;34m\u001b[0m\n\u001b[0;32m      1\u001b[0m \u001b[1;31m# Plot the data using plotly.express\u001b[0m\u001b[1;33m\u001b[0m\u001b[1;33m\u001b[0m\u001b[1;33m\u001b[0m\u001b[0m\n\u001b[0;32m      2\u001b[0m \u001b[0mfig\u001b[0m \u001b[1;33m=\u001b[0m \u001b[0mpx\u001b[0m\u001b[1;33m.\u001b[0m\u001b[0mline\u001b[0m\u001b[1;33m(\u001b[0m\u001b[0mhr\u001b[0m\u001b[1;33m[\u001b[0m\u001b[1;33m:\u001b[0m\u001b[1;33m:\u001b[0m\u001b[0msample_size\u001b[0m\u001b[1;33m]\u001b[0m\u001b[1;33m,\u001b[0m \u001b[0mx\u001b[0m\u001b[1;33m=\u001b[0m\u001b[1;34m'hour_min_sec_ms'\u001b[0m\u001b[1;33m,\u001b[0m \u001b[0my\u001b[0m\u001b[1;33m=\u001b[0m\u001b[1;34m'hr'\u001b[0m\u001b[1;33m,\u001b[0m \u001b[0mtitle\u001b[0m\u001b[1;33m=\u001b[0m\u001b[1;34m\"Heart rate in fraility experiment by phase\"\u001b[0m\u001b[1;33m)\u001b[0m\u001b[1;33m\u001b[0m\u001b[1;33m\u001b[0m\u001b[0m\n\u001b[1;32m----> 3\u001b[1;33m \u001b[0mfig\u001b[0m\u001b[1;33m.\u001b[0m\u001b[0mupdate_xlabel\u001b[0m\u001b[1;33m(\u001b[0m\u001b[1;34m'Phase'\u001b[0m\u001b[1;33m)\u001b[0m\u001b[1;33m\u001b[0m\u001b[1;33m\u001b[0m\u001b[0m\n\u001b[0m\u001b[0;32m      4\u001b[0m \u001b[1;31m# Update x-axis labels\u001b[0m\u001b[1;33m\u001b[0m\u001b[1;33m\u001b[0m\u001b[1;33m\u001b[0m\u001b[0m\n\u001b[0;32m      5\u001b[0m fig.update_xaxes(tickvals=np.arange(0, n_samples, step=n_samples/hr['phase'].max()),\n",
      "\u001b[1;31mAttributeError\u001b[0m: 'Figure' object has no attribute 'update_xlabel'"
     ]
    }
   ],
   "source": [
    "# Plot the data using plotly.express\n",
    "fig = px.line(hr[::sample_size], x='hour_min_sec_ms', y='hr', title=\"Heart rate in fraility experiment by phase\")\n",
    "\n",
    "print(f\"TODO: Change plot x and y labels, and change time from absolute to relative from beggining\")\n",
    "# Update x-axis labels\n",
    "fig.update_xaxes(tickvals=np.arange(0, n_samples, step=n_samples/hr['phase'].max()),\n",
    "                 ticktext=phase_names)\n",
    "\n",
    "fig.show()"
   ]
  }
 ],
 "metadata": {
  "kernelspec": {
   "display_name": "base",
   "language": "python",
   "name": "python3"
  },
  "language_info": {
   "codemirror_mode": {
    "name": "ipython",
    "version": 3
   },
   "file_extension": ".py",
   "mimetype": "text/x-python",
   "name": "python",
   "nbconvert_exporter": "python",
   "pygments_lexer": "ipython3",
   "version": "3.8.3"
  },
  "orig_nbformat": 4,
  "vscode": {
   "interpreter": {
    "hash": "5bee4f465f634d4675c634efd0ba54e4898bf7689afdb91c35c895acffa19c99"
   }
  }
 },
 "nbformat": 4,
 "nbformat_minor": 2
}
